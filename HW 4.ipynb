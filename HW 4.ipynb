{
 "cells": [
  {
   "cell_type": "code",
   "execution_count": 16,
   "metadata": {},
   "outputs": [
    {
     "data": {
      "text/plain": [
       "(494, 31)"
      ]
     },
     "metadata": {},
     "output_type": "display_data"
    },
    {
     "data": {
      "text/plain": [
       "Index(['Property Id', 'Property Name', 'Address 1', 'City', 'Postal Code',\n",
       "       'Province', 'Primary Property Type - Self Selected',\n",
       "       'Number of Buildings', 'Year Built',\n",
       "       'Property GFA - Self-Reported (m²)', 'ENERGY STAR Score',\n",
       "       'Site Energy Use (GJ)', 'Weather Normalized Site Energy Use (GJ)',\n",
       "       'Site EUI (GJ/m²)', 'Weather Normalized Site EUI (GJ/m²)',\n",
       "       'Source Energy Use (GJ)', 'Weather Normalized Source Energy Use (GJ)',\n",
       "       'Source EUI (GJ/m²)', 'Weather Normalized Source EUI (GJ/m²)',\n",
       "       'Total GHG Emissions (Metric Tons CO2e)',\n",
       "       'Total GHG Emissions Intensity (kgCO2e/m²)',\n",
       "       'Direct GHG Emissions (Metric Tons CO2e)',\n",
       "       'Direct GHG Emissions Intensity (kgCO2e/m²)',\n",
       "       'Electricity Use - Grid Purchase (kWh)', 'Natural Gas Use (GJ)',\n",
       "       'District Hot Water Use (GJ)',\n",
       "       'Electricity Use – Generated from Onsite Renewable Systems (kWh)',\n",
       "       'Green Power - Onsite and Offsite (kWh)',\n",
       "       'Avoided Emissions - Onsite and Offsite Green Power (Metric Tons CO2e)',\n",
       "       'Year Ending', 'Unique ID'],\n",
       "      dtype='object')"
      ]
     },
     "metadata": {},
     "output_type": "display_data"
    },
    {
     "data": {
      "text/plain": [
       "Property Id                                                                int64\n",
       "Property Name                                                             object\n",
       "Address 1                                                                 object\n",
       "City                                                                      object\n",
       "Postal Code                                                               object\n",
       "Province                                                                  object\n",
       "Primary Property Type - Self Selected                                     object\n",
       "Number of Buildings                                                        int64\n",
       "Year Built                                                                 int64\n",
       "Property GFA - Self-Reported (m²)                                         object\n",
       "ENERGY STAR Score                                                        float64\n",
       "Site Energy Use (GJ)                                                      object\n",
       "Weather Normalized Site Energy Use (GJ)                                   object\n",
       "Site EUI (GJ/m²)                                                         float64\n",
       "Weather Normalized Site EUI (GJ/m²)                                      float64\n",
       "Source Energy Use (GJ)                                                    object\n",
       "Weather Normalized Source Energy Use (GJ)                                 object\n",
       "Source EUI (GJ/m²)                                                       float64\n",
       "Weather Normalized Source EUI (GJ/m²)                                    float64\n",
       "Total GHG Emissions (Metric Tons CO2e)                                    object\n",
       "Total GHG Emissions Intensity (kgCO2e/m²)                                float64\n",
       "Direct GHG Emissions (Metric Tons CO2e)                                   object\n",
       "Direct GHG Emissions Intensity (kgCO2e/m²)                               float64\n",
       "Electricity Use - Grid Purchase (kWh)                                     object\n",
       "Natural Gas Use (GJ)                                                      object\n",
       "District Hot Water Use (GJ)                                               object\n",
       "Electricity Use – Generated from Onsite Renewable Systems (kWh)          float64\n",
       "Green Power - Onsite and Offsite (kWh)                                   float64\n",
       "Avoided Emissions - Onsite and Offsite Green Power (Metric Tons CO2e)    float64\n",
       "Year Ending                                                                int64\n",
       "Unique ID                                                                 object\n",
       "dtype: object"
      ]
     },
     "metadata": {},
     "output_type": "display_data"
    }
   ],
   "source": [
    "\n",
    "import pandas as pd\n",
    "import numpy as np\n",
    "import matplotlib.pyplot as plt\n",
    "\n",
    "##1.1\n",
    "\n",
    "#load the csv file\n",
    "file_path = 'Building_Energy_Benchmarking.csv'\n",
    "\n",
    "#place the csv file into a dateframe\n",
    "df = pd.read_csv(file_path) \n",
    "\n",
    "#display shape, columns and data types\n",
    "display(df.shape)\n",
    "display(df.columns)\n",
    "display(df.dtypes)\n"
   ]
  },
  {
   "cell_type": "code",
   "execution_count": 17,
   "metadata": {},
   "outputs": [
    {
     "name": "stdout",
     "output_type": "stream",
     "text": [
      "                                         Column Name  Missing Values\n",
      "0                                  ENERGY STAR Score             329\n",
      "1          Weather Normalized Source Energy Use (GJ)               2\n",
      "2                               Natural Gas Use (GJ)              10\n",
      "3                        District Hot Water Use (GJ)             479\n",
      "4  Electricity Use – Generated from Onsite Renewa...             450\n",
      "5             Green Power - Onsite and Offsite (kWh)             198\n",
      "6  Avoided Emissions - Onsite and Offsite Green P...             198\n"
     ]
    }
   ],
   "source": [
    "##1.1\n",
    "\n",
    "#sum the null values in the dataframe \n",
    "null_value = df.isnull().sum()\n",
    "\n",
    "#create a new dataframe, with null values greater than zero in the column\n",
    "null_value_dataframe = null_value[null_value>0].reset_index()\n",
    "\n",
    "#print out a dataframe with the column names, and the missing values\n",
    "null_value_dataframe.columns = ['Column Name','Missing Values']\n",
    "\n",
    "print(null_value_dataframe)\n",
    "\n"
   ]
  },
  {
   "cell_type": "code",
   "execution_count": 18,
   "metadata": {},
   "outputs": [
    {
     "name": "stdout",
     "output_type": "stream",
     "text": [
      "Property Id                                                               0.000000\n",
      "Property Name                                                             0.000000\n",
      "Address 1                                                                 0.000000\n",
      "City                                                                      0.000000\n",
      "Postal Code                                                               0.000000\n",
      "Province                                                                  0.000000\n",
      "Primary Property Type - Self Selected                                     0.000000\n",
      "Number of Buildings                                                       0.000000\n",
      "Year Built                                                                0.000000\n",
      "Property GFA - Self-Reported (m²)                                         0.000000\n",
      "ENERGY STAR Score                                                        66.599190\n",
      "Site Energy Use (GJ)                                                      0.000000\n",
      "Weather Normalized Site Energy Use (GJ)                                   0.000000\n",
      "Site EUI (GJ/m²)                                                          0.000000\n",
      "Weather Normalized Site EUI (GJ/m²)                                       0.000000\n",
      "Source Energy Use (GJ)                                                    0.000000\n",
      "Weather Normalized Source Energy Use (GJ)                                 0.404858\n",
      "Source EUI (GJ/m²)                                                        0.000000\n",
      "Weather Normalized Source EUI (GJ/m²)                                     0.000000\n",
      "Total GHG Emissions (Metric Tons CO2e)                                    0.000000\n",
      "Total GHG Emissions Intensity (kgCO2e/m²)                                 0.000000\n",
      "Direct GHG Emissions (Metric Tons CO2e)                                   0.000000\n",
      "Direct GHG Emissions Intensity (kgCO2e/m²)                                0.000000\n",
      "Electricity Use - Grid Purchase (kWh)                                     0.000000\n",
      "Natural Gas Use (GJ)                                                      2.024291\n",
      "District Hot Water Use (GJ)                                              96.963563\n",
      "Electricity Use – Generated from Onsite Renewable Systems (kWh)          91.093117\n",
      "Green Power - Onsite and Offsite (kWh)                                   40.080972\n",
      "Avoided Emissions - Onsite and Offsite Green Power (Metric Tons CO2e)    40.080972\n",
      "Year Ending                                                               0.000000\n",
      "Unique ID                                                                 0.000000\n",
      "dtype: float64\n"
     ]
    }
   ],
   "source": [
    "##1.2 Handling Missing Data\n",
    "\n",
    "missing_percentage = df.isnull().mean()*100\n",
    "print(missing_percentage)\n"
   ]
  },
  {
   "cell_type": "markdown",
   "metadata": {},
   "source": [
    "I am going to drop the values for Green Power, Avoided Emissions, District Hot Water Use, Electricity Use. I am going to keep the Energy Star Score column for now and not alter it at all because question 4.2, mentions using the score for a t test"
   ]
  },
  {
   "cell_type": "code",
   "execution_count": 19,
   "metadata": {},
   "outputs": [
    {
     "name": "stdout",
     "output_type": "stream",
     "text": [
      "Property Id                                    0.000000\n",
      "Property Name                                  0.000000\n",
      "Address 1                                      0.000000\n",
      "City                                           0.000000\n",
      "Postal Code                                    0.000000\n",
      "Province                                       0.000000\n",
      "Primary Property Type - Self Selected          0.000000\n",
      "Number of Buildings                            0.000000\n",
      "Year Built                                     0.000000\n",
      "Property GFA - Self-Reported (m²)              0.000000\n",
      "ENERGY STAR Score                             66.599190\n",
      "Site Energy Use (GJ)                           0.000000\n",
      "Weather Normalized Site Energy Use (GJ)        0.000000\n",
      "Site EUI (GJ/m²)                               0.000000\n",
      "Weather Normalized Site EUI (GJ/m²)            0.000000\n",
      "Source Energy Use (GJ)                         0.000000\n",
      "Weather Normalized Source Energy Use (GJ)      0.404858\n",
      "Source EUI (GJ/m²)                             0.000000\n",
      "Weather Normalized Source EUI (GJ/m²)          0.000000\n",
      "Total GHG Emissions (Metric Tons CO2e)         0.000000\n",
      "Total GHG Emissions Intensity (kgCO2e/m²)      0.000000\n",
      "Direct GHG Emissions (Metric Tons CO2e)        0.000000\n",
      "Direct GHG Emissions Intensity (kgCO2e/m²)     0.000000\n",
      "Electricity Use - Grid Purchase (kWh)          0.000000\n",
      "Natural Gas Use (GJ)                           2.024291\n",
      "Year Ending                                    0.000000\n",
      "Unique ID                                      0.000000\n",
      "dtype: float64\n"
     ]
    }
   ],
   "source": [
    "##1.2 Handling Missing Data\n",
    "\n",
    "df = df.drop(['Green Power - Onsite and Offsite (kWh)', 'Avoided Emissions - Onsite and Offsite Green Power (Metric Tons CO2e)',\n",
    "              'District Hot Water Use (GJ)','Electricity Use – Generated from Onsite Renewable Systems (kWh)'], axis = 1)\n",
    "\n",
    "missing_percentage = df.isnull().mean()*100\n",
    "print(missing_percentage)"
   ]
  },
  {
   "cell_type": "markdown",
   "metadata": {},
   "source": [
    "Weather Normalized Source Energy Use (GJ), and the Natural Gas Use column are filled with an object data type, we will need to convert it to clean the data, by getting rid of any commas, symbols, and then convert the data to numeric values. Once that is done we can find the median for the categories and then fill the nulls with that.  "
   ]
  },
  {
   "cell_type": "code",
   "execution_count": 22,
   "metadata": {},
   "outputs": [
    {
     "name": "stdout",
     "output_type": "stream",
     "text": [
      " The median for Natural Gas use is : 1569.75\n",
      " The median for Weather Normalized Source Energy Use is : 3144.8\n",
      "Property Id                                    0.00000\n",
      "Property Name                                  0.00000\n",
      "Address 1                                      0.00000\n",
      "City                                           0.00000\n",
      "Postal Code                                    0.00000\n",
      "Province                                       0.00000\n",
      "Primary Property Type - Self Selected          0.00000\n",
      "Number of Buildings                            0.00000\n",
      "Year Built                                     0.00000\n",
      "Property GFA - Self-Reported (m²)              0.00000\n",
      "ENERGY STAR Score                             66.59919\n",
      "Site Energy Use (GJ)                           0.00000\n",
      "Weather Normalized Site Energy Use (GJ)        0.00000\n",
      "Site EUI (GJ/m²)                               0.00000\n",
      "Weather Normalized Site EUI (GJ/m²)            0.00000\n",
      "Source Energy Use (GJ)                         0.00000\n",
      "Weather Normalized Source Energy Use (GJ)      0.00000\n",
      "Source EUI (GJ/m²)                             0.00000\n",
      "Weather Normalized Source EUI (GJ/m²)          0.00000\n",
      "Total GHG Emissions (Metric Tons CO2e)         0.00000\n",
      "Total GHG Emissions Intensity (kgCO2e/m²)      0.00000\n",
      "Direct GHG Emissions (Metric Tons CO2e)        0.00000\n",
      "Direct GHG Emissions Intensity (kgCO2e/m²)     0.00000\n",
      "Electricity Use - Grid Purchase (kWh)          0.00000\n",
      "Natural Gas Use (GJ)                           0.00000\n",
      "Year Ending                                    0.00000\n",
      "Unique ID                                      0.00000\n",
      "dtype: float64\n"
     ]
    },
    {
     "data": {
      "text/plain": [
       "Property Id                                     int64\n",
       "Property Name                                  object\n",
       "Address 1                                      object\n",
       "City                                           object\n",
       "Postal Code                                    object\n",
       "Province                                       object\n",
       "Primary Property Type - Self Selected          object\n",
       "Number of Buildings                             int64\n",
       "Year Built                                      int64\n",
       "Property GFA - Self-Reported (m²)              object\n",
       "ENERGY STAR Score                             float64\n",
       "Site Energy Use (GJ)                           object\n",
       "Weather Normalized Site Energy Use (GJ)        object\n",
       "Site EUI (GJ/m²)                              float64\n",
       "Weather Normalized Site EUI (GJ/m²)           float64\n",
       "Source Energy Use (GJ)                         object\n",
       "Weather Normalized Source Energy Use (GJ)     float64\n",
       "Source EUI (GJ/m²)                            float64\n",
       "Weather Normalized Source EUI (GJ/m²)         float64\n",
       "Total GHG Emissions (Metric Tons CO2e)         object\n",
       "Total GHG Emissions Intensity (kgCO2e/m²)     float64\n",
       "Direct GHG Emissions (Metric Tons CO2e)        object\n",
       "Direct GHG Emissions Intensity (kgCO2e/m²)    float64\n",
       "Electricity Use - Grid Purchase (kWh)          object\n",
       "Natural Gas Use (GJ)                          float64\n",
       "Year Ending                                     int64\n",
       "Unique ID                                      object\n",
       "dtype: object"
      ]
     },
     "metadata": {},
     "output_type": "display_data"
    }
   ],
   "source": [
    "##1.2 \n",
    "\n",
    "#Use regex to clean string data and remove any non-numerica characters, then we will utilize the pd.to.numeric function to covert the values to floats\n",
    "df['Natural Gas Use (GJ)'] = df['Natural Gas Use (GJ)'].astype(str).str.replace(r',', '', regex=True)\n",
    "df['Natural Gas Use (GJ)'] = pd.to_numeric(df['Natural Gas Use (GJ)'], errors='coerce')\n",
    "\n",
    "#Use regex to clean string data and remove any non-numerica characters, then we will utilize the pd.to.numeric function to covert the values to floats\n",
    "df['Weather Normalized Source Energy Use (GJ)'] = df['Weather Normalized Source Energy Use (GJ)'].astype(str).str.replace(r',', '', regex=True)\n",
    "df['Weather Normalized Source Energy Use (GJ)'] = pd.to_numeric(df['Weather Normalized Source Energy Use (GJ)'], errors='coerce')\n",
    "\n",
    "#calculate the median in the Natural gas column, and then fill the nulls with that values, print the median value for a check\n",
    "NGU_median = df['Natural Gas Use (GJ)'].median()\n",
    "df['Natural Gas Use (GJ)'] = df['Natural Gas Use (GJ)'].fillna(NGU_median)\n",
    "print(f' The median for Natural Gas use is : {NGU_median}')\n",
    "\n",
    "#calculate the median in the Weather normalized source energy use column, and then fill the nulls with that values, print the median value for a check\n",
    "WNSourceEU_median = df ['Weather Normalized Source Energy Use (GJ)'].median()\n",
    "df['Weather Normalized Source Energy Use (GJ)'] = df['Weather Normalized Source Energy Use (GJ)'].fillna(WNSourceEU_median)\n",
    "print(f' The median for Weather Normalized Source Energy Use is : {WNSourceEU_median}')\n",
    "\n",
    "#double check that the percentages for the nulls are now zero. \n",
    "missing_percentage = df.isnull().mean()*100\n",
    "print(missing_percentage)\n",
    "\n",
    "#double check that they data types are now floats \n",
    "display(df.dtypes)\n"
   ]
  },
  {
   "cell_type": "markdown",
   "metadata": {},
   "source": [
    "##1.3 Extracting and Cleaning Data Using Regex\n",
    "\n",
    "We now need to use Regex, to "
   ]
  }
 ],
 "metadata": {
  "kernelspec": {
   "display_name": "Python 3",
   "language": "python",
   "name": "python3"
  },
  "language_info": {
   "codemirror_mode": {
    "name": "ipython",
    "version": 3
   },
   "file_extension": ".py",
   "mimetype": "text/x-python",
   "name": "python",
   "nbconvert_exporter": "python",
   "pygments_lexer": "ipython3",
   "version": "3.12.4"
  }
 },
 "nbformat": 4,
 "nbformat_minor": 2
}
