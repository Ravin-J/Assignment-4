{
 "cells": [
  {
   "cell_type": "code",
   "execution_count": null,
   "metadata": {},
   "outputs": [
    {
     "data": {
      "text/plain": [
       "(494, 31)"
      ]
     },
     "metadata": {},
     "output_type": "display_data"
    },
    {
     "data": {
      "text/plain": [
       "Index(['Property Id', 'Property Name', 'Address 1', 'City', 'Postal Code',\n",
       "       'Province', 'Primary Property Type - Self Selected',\n",
       "       'Number of Buildings', 'Year Built',\n",
       "       'Property GFA - Self-Reported (m²)', 'ENERGY STAR Score',\n",
       "       'Site Energy Use (GJ)', 'Weather Normalized Site Energy Use (GJ)',\n",
       "       'Site EUI (GJ/m²)', 'Weather Normalized Site EUI (GJ/m²)',\n",
       "       'Source Energy Use (GJ)', 'Weather Normalized Source Energy Use (GJ)',\n",
       "       'Source EUI (GJ/m²)', 'Weather Normalized Source EUI (GJ/m²)',\n",
       "       'Total GHG Emissions (Metric Tons CO2e)',\n",
       "       'Total GHG Emissions Intensity (kgCO2e/m²)',\n",
       "       'Direct GHG Emissions (Metric Tons CO2e)',\n",
       "       'Direct GHG Emissions Intensity (kgCO2e/m²)',\n",
       "       'Electricity Use - Grid Purchase (kWh)', 'Natural Gas Use (GJ)',\n",
       "       'District Hot Water Use (GJ)',\n",
       "       'Electricity Use – Generated from Onsite Renewable Systems (kWh)',\n",
       "       'Green Power - Onsite and Offsite (kWh)',\n",
       "       'Avoided Emissions - Onsite and Offsite Green Power (Metric Tons CO2e)',\n",
       "       'Year Ending', 'Unique ID'],\n",
       "      dtype='object')"
      ]
     },
     "metadata": {},
     "output_type": "display_data"
    },
    {
     "data": {
      "text/plain": [
       "Property Id                                                                int64\n",
       "Property Name                                                             object\n",
       "Address 1                                                                 object\n",
       "City                                                                      object\n",
       "Postal Code                                                               object\n",
       "Province                                                                  object\n",
       "Primary Property Type - Self Selected                                     object\n",
       "Number of Buildings                                                        int64\n",
       "Year Built                                                                 int64\n",
       "Property GFA - Self-Reported (m²)                                         object\n",
       "ENERGY STAR Score                                                        float64\n",
       "Site Energy Use (GJ)                                                      object\n",
       "Weather Normalized Site Energy Use (GJ)                                   object\n",
       "Site EUI (GJ/m²)                                                         float64\n",
       "Weather Normalized Site EUI (GJ/m²)                                      float64\n",
       "Source Energy Use (GJ)                                                    object\n",
       "Weather Normalized Source Energy Use (GJ)                                 object\n",
       "Source EUI (GJ/m²)                                                       float64\n",
       "Weather Normalized Source EUI (GJ/m²)                                    float64\n",
       "Total GHG Emissions (Metric Tons CO2e)                                    object\n",
       "Total GHG Emissions Intensity (kgCO2e/m²)                                float64\n",
       "Direct GHG Emissions (Metric Tons CO2e)                                   object\n",
       "Direct GHG Emissions Intensity (kgCO2e/m²)                               float64\n",
       "Electricity Use - Grid Purchase (kWh)                                     object\n",
       "Natural Gas Use (GJ)                                                      object\n",
       "District Hot Water Use (GJ)                                               object\n",
       "Electricity Use – Generated from Onsite Renewable Systems (kWh)          float64\n",
       "Green Power - Onsite and Offsite (kWh)                                   float64\n",
       "Avoided Emissions - Onsite and Offsite Green Power (Metric Tons CO2e)    float64\n",
       "Year Ending                                                                int64\n",
       "Unique ID                                                                 object\n",
       "dtype: object"
      ]
     },
     "metadata": {},
     "output_type": "display_data"
    }
   ],
   "source": [
    "\n",
    "import pandas as pd\n",
    "import numpy as np\n",
    "import matplotlib.pyplot as plt\n",
    "\n",
    "##1.1\n",
    "\n",
    "#load the csv file\n",
    "file_path = 'Building_Energy_Benchmarking.csv'\n",
    "\n",
    "#place the csv file into a dateframe\n",
    "df = pd.read_csv(file_path) \n",
    "\n",
    "#display shape, columns and data types\n",
    "display(df.shape)\n",
    "display(df.columns)\n",
    "display(df.dtypes)\n"
   ]
  },
  {
   "cell_type": "code",
   "execution_count": null,
   "metadata": {},
   "outputs": [
    {
     "name": "stdout",
     "output_type": "stream",
     "text": [
      "                                         Column Name  Missing Values\n",
      "0                                  ENERGY STAR Score             329\n",
      "1          Weather Normalized Source Energy Use (GJ)               2\n",
      "2                               Natural Gas Use (GJ)              10\n",
      "3                        District Hot Water Use (GJ)             479\n",
      "4  Electricity Use – Generated from Onsite Renewa...             450\n",
      "5             Green Power - Onsite and Offsite (kWh)             198\n",
      "6  Avoided Emissions - Onsite and Offsite Green P...             198\n",
      "Empty DataFrame\n",
      "Columns: [Column Name, Hidden Null-like Values]\n",
      "Index: []\n"
     ]
    }
   ],
   "source": [
    "##1.1\n",
    "\n",
    "#Sum hte null values in the dataframe \n",
    "null_value = df.isnull().sum()\n",
    "\n",
    "#create a new dataframe, with null values greater than zero in the column\n",
    "null_value_dataframe = null_value[null_value>0].reset_index()\n",
    "\n",
    "#print out a dataframe with the column names, and the missing values\n",
    "null_value_dataframe.columns = ['Column Name','Missing Values']\n",
    "\n",
    "print(null_value_dataframe)\n",
    "\n"
   ]
  },
  {
   "cell_type": "code",
   "execution_count": null,
   "metadata": {},
   "outputs": [],
   "source": []
  }
 ],
 "metadata": {
  "kernelspec": {
   "display_name": "Python 3",
   "language": "python",
   "name": "python3"
  },
  "language_info": {
   "codemirror_mode": {
    "name": "ipython",
    "version": 3
   },
   "file_extension": ".py",
   "mimetype": "text/x-python",
   "name": "python",
   "nbconvert_exporter": "python",
   "pygments_lexer": "ipython3",
   "version": "3.12.4"
  }
 },
 "nbformat": 4,
 "nbformat_minor": 2
}
