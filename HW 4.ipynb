{
 "cells": [
  {
   "cell_type": "code",
   "execution_count": 2,
   "metadata": {},
   "outputs": [
    {
     "data": {
      "text/plain": [
       "(494, 31)"
      ]
     },
     "metadata": {},
     "output_type": "display_data"
    },
    {
     "data": {
      "text/plain": [
       "Index(['Property Id', 'Property Name', 'Address 1', 'City', 'Postal Code',\n",
       "       'Province', 'Primary Property Type - Self Selected',\n",
       "       'Number of Buildings', 'Year Built',\n",
       "       'Property GFA - Self-Reported (m²)', 'ENERGY STAR Score',\n",
       "       'Site Energy Use (GJ)', 'Weather Normalized Site Energy Use (GJ)',\n",
       "       'Site EUI (GJ/m²)', 'Weather Normalized Site EUI (GJ/m²)',\n",
       "       'Source Energy Use (GJ)', 'Weather Normalized Source Energy Use (GJ)',\n",
       "       'Source EUI (GJ/m²)', 'Weather Normalized Source EUI (GJ/m²)',\n",
       "       'Total GHG Emissions (Metric Tons CO2e)',\n",
       "       'Total GHG Emissions Intensity (kgCO2e/m²)',\n",
       "       'Direct GHG Emissions (Metric Tons CO2e)',\n",
       "       'Direct GHG Emissions Intensity (kgCO2e/m²)',\n",
       "       'Electricity Use - Grid Purchase (kWh)', 'Natural Gas Use (GJ)',\n",
       "       'District Hot Water Use (GJ)',\n",
       "       'Electricity Use – Generated from Onsite Renewable Systems (kWh)',\n",
       "       'Green Power - Onsite and Offsite (kWh)',\n",
       "       'Avoided Emissions - Onsite and Offsite Green Power (Metric Tons CO2e)',\n",
       "       'Year Ending', 'Unique ID'],\n",
       "      dtype='object')"
      ]
     },
     "metadata": {},
     "output_type": "display_data"
    },
    {
     "data": {
      "text/plain": [
       "Property Id                                                                int64\n",
       "Property Name                                                             object\n",
       "Address 1                                                                 object\n",
       "City                                                                      object\n",
       "Postal Code                                                               object\n",
       "Province                                                                  object\n",
       "Primary Property Type - Self Selected                                     object\n",
       "Number of Buildings                                                        int64\n",
       "Year Built                                                                 int64\n",
       "Property GFA - Self-Reported (m²)                                         object\n",
       "ENERGY STAR Score                                                        float64\n",
       "Site Energy Use (GJ)                                                      object\n",
       "Weather Normalized Site Energy Use (GJ)                                   object\n",
       "Site EUI (GJ/m²)                                                         float64\n",
       "Weather Normalized Site EUI (GJ/m²)                                      float64\n",
       "Source Energy Use (GJ)                                                    object\n",
       "Weather Normalized Source Energy Use (GJ)                                 object\n",
       "Source EUI (GJ/m²)                                                       float64\n",
       "Weather Normalized Source EUI (GJ/m²)                                    float64\n",
       "Total GHG Emissions (Metric Tons CO2e)                                    object\n",
       "Total GHG Emissions Intensity (kgCO2e/m²)                                float64\n",
       "Direct GHG Emissions (Metric Tons CO2e)                                   object\n",
       "Direct GHG Emissions Intensity (kgCO2e/m²)                               float64\n",
       "Electricity Use - Grid Purchase (kWh)                                     object\n",
       "Natural Gas Use (GJ)                                                      object\n",
       "District Hot Water Use (GJ)                                               object\n",
       "Electricity Use – Generated from Onsite Renewable Systems (kWh)          float64\n",
       "Green Power - Onsite and Offsite (kWh)                                   float64\n",
       "Avoided Emissions - Onsite and Offsite Green Power (Metric Tons CO2e)    float64\n",
       "Year Ending                                                                int64\n",
       "Unique ID                                                                 object\n",
       "dtype: object"
      ]
     },
     "metadata": {},
     "output_type": "display_data"
    }
   ],
   "source": [
    "\n",
    "import pandas as pd\n",
    "import numpy as np\n",
    "import matplotlib.pyplot as plt\n",
    "import re\n",
    "\n",
    "##1.1\n",
    "\n",
    "#load the csv file\n",
    "file_path = 'Building_Energy_Benchmarking.csv'\n",
    "\n",
    "#place the csv file into a dateframe\n",
    "df = pd.read_csv(file_path) \n",
    "\n",
    "#display shape, columns and data types\n",
    "display(df.shape)\n",
    "display(df.columns)\n",
    "display(df.dtypes)\n"
   ]
  },
  {
   "cell_type": "code",
   "execution_count": 3,
   "metadata": {},
   "outputs": [
    {
     "name": "stdout",
     "output_type": "stream",
     "text": [
      "                                         Column Name  Missing Values\n",
      "0                                  ENERGY STAR Score             329\n",
      "1          Weather Normalized Source Energy Use (GJ)               2\n",
      "2                               Natural Gas Use (GJ)              10\n",
      "3                        District Hot Water Use (GJ)             479\n",
      "4  Electricity Use – Generated from Onsite Renewa...             450\n",
      "5             Green Power - Onsite and Offsite (kWh)             198\n",
      "6  Avoided Emissions - Onsite and Offsite Green P...             198\n"
     ]
    }
   ],
   "source": [
    "##1.1\n",
    "\n",
    "#sum the null values in the dataframe \n",
    "null_value = df.isnull().sum()\n",
    "\n",
    "#create a new dataframe, with null values greater than zero in the column\n",
    "null_value_dataframe = null_value[null_value>0].reset_index()\n",
    "\n",
    "#print out a dataframe with the column names, and the missing values\n",
    "null_value_dataframe.columns = ['Column Name','Missing Values']\n",
    "\n",
    "print(null_value_dataframe)\n",
    "\n"
   ]
  },
  {
   "cell_type": "code",
   "execution_count": 4,
   "metadata": {},
   "outputs": [
    {
     "name": "stdout",
     "output_type": "stream",
     "text": [
      "Property Id                                                               0.000000\n",
      "Property Name                                                             0.000000\n",
      "Address 1                                                                 0.000000\n",
      "City                                                                      0.000000\n",
      "Postal Code                                                               0.000000\n",
      "Province                                                                  0.000000\n",
      "Primary Property Type - Self Selected                                     0.000000\n",
      "Number of Buildings                                                       0.000000\n",
      "Year Built                                                                0.000000\n",
      "Property GFA - Self-Reported (m²)                                         0.000000\n",
      "ENERGY STAR Score                                                        66.599190\n",
      "Site Energy Use (GJ)                                                      0.000000\n",
      "Weather Normalized Site Energy Use (GJ)                                   0.000000\n",
      "Site EUI (GJ/m²)                                                          0.000000\n",
      "Weather Normalized Site EUI (GJ/m²)                                       0.000000\n",
      "Source Energy Use (GJ)                                                    0.000000\n",
      "Weather Normalized Source Energy Use (GJ)                                 0.404858\n",
      "Source EUI (GJ/m²)                                                        0.000000\n",
      "Weather Normalized Source EUI (GJ/m²)                                     0.000000\n",
      "Total GHG Emissions (Metric Tons CO2e)                                    0.000000\n",
      "Total GHG Emissions Intensity (kgCO2e/m²)                                 0.000000\n",
      "Direct GHG Emissions (Metric Tons CO2e)                                   0.000000\n",
      "Direct GHG Emissions Intensity (kgCO2e/m²)                                0.000000\n",
      "Electricity Use - Grid Purchase (kWh)                                     0.000000\n",
      "Natural Gas Use (GJ)                                                      2.024291\n",
      "District Hot Water Use (GJ)                                              96.963563\n",
      "Electricity Use – Generated from Onsite Renewable Systems (kWh)          91.093117\n",
      "Green Power - Onsite and Offsite (kWh)                                   40.080972\n",
      "Avoided Emissions - Onsite and Offsite Green Power (Metric Tons CO2e)    40.080972\n",
      "Year Ending                                                               0.000000\n",
      "Unique ID                                                                 0.000000\n",
      "dtype: float64\n"
     ]
    }
   ],
   "source": [
    "##1.2 Handling Missing Data\n",
    "\n",
    "missing_percentage = df.isnull().mean()*100\n",
    "print(missing_percentage)\n"
   ]
  },
  {
   "cell_type": "markdown",
   "metadata": {},
   "source": [
    "I am going to drop the values for Green Power, Avoided Emissions, District Hot Water Use, Electricity Use. I am going to keep the Energy Star Score column for now and not alter it at all because question 4.2, mentions using the score for a t test"
   ]
  },
  {
   "cell_type": "code",
   "execution_count": 5,
   "metadata": {},
   "outputs": [
    {
     "name": "stdout",
     "output_type": "stream",
     "text": [
      "Property Id                                    0.000000\n",
      "Property Name                                  0.000000\n",
      "Address 1                                      0.000000\n",
      "City                                           0.000000\n",
      "Postal Code                                    0.000000\n",
      "Province                                       0.000000\n",
      "Primary Property Type - Self Selected          0.000000\n",
      "Number of Buildings                            0.000000\n",
      "Year Built                                     0.000000\n",
      "Property GFA - Self-Reported (m²)              0.000000\n",
      "ENERGY STAR Score                             66.599190\n",
      "Site Energy Use (GJ)                           0.000000\n",
      "Weather Normalized Site Energy Use (GJ)        0.000000\n",
      "Site EUI (GJ/m²)                               0.000000\n",
      "Weather Normalized Site EUI (GJ/m²)            0.000000\n",
      "Source Energy Use (GJ)                         0.000000\n",
      "Weather Normalized Source Energy Use (GJ)      0.404858\n",
      "Source EUI (GJ/m²)                             0.000000\n",
      "Weather Normalized Source EUI (GJ/m²)          0.000000\n",
      "Total GHG Emissions (Metric Tons CO2e)         0.000000\n",
      "Total GHG Emissions Intensity (kgCO2e/m²)      0.000000\n",
      "Direct GHG Emissions (Metric Tons CO2e)        0.000000\n",
      "Direct GHG Emissions Intensity (kgCO2e/m²)     0.000000\n",
      "Electricity Use - Grid Purchase (kWh)          0.000000\n",
      "Natural Gas Use (GJ)                           2.024291\n",
      "Year Ending                                    0.000000\n",
      "Unique ID                                      0.000000\n",
      "dtype: float64\n"
     ]
    }
   ],
   "source": [
    "##1.2 Handling Missing Data\n",
    "\n",
    "df = df.drop(['Green Power - Onsite and Offsite (kWh)', 'Avoided Emissions - Onsite and Offsite Green Power (Metric Tons CO2e)',\n",
    "              'District Hot Water Use (GJ)','Electricity Use – Generated from Onsite Renewable Systems (kWh)'], axis = 1)\n",
    "\n",
    "missing_percentage = df.isnull().mean()*100\n",
    "print(missing_percentage)"
   ]
  },
  {
   "cell_type": "markdown",
   "metadata": {},
   "source": [
    "Weather Normalized Source Energy Use (GJ), and the Natural Gas Use column are filled with an object data type, we will need to convert it to clean the data, by getting rid of any commas, symbols, and then convert the data to numeric values. Once that is done we can find the median for the categories and then fill the nulls with that.  "
   ]
  },
  {
   "cell_type": "code",
   "execution_count": 6,
   "metadata": {},
   "outputs": [
    {
     "name": "stdout",
     "output_type": "stream",
     "text": [
      " The median for Natural Gas use is : 1569.75\n",
      " The median for Weather Normalized Source Energy Use is : 3144.8\n",
      "Property Id                                    0.00000\n",
      "Property Name                                  0.00000\n",
      "Address 1                                      0.00000\n",
      "City                                           0.00000\n",
      "Postal Code                                    0.00000\n",
      "Province                                       0.00000\n",
      "Primary Property Type - Self Selected          0.00000\n",
      "Number of Buildings                            0.00000\n",
      "Year Built                                     0.00000\n",
      "Property GFA - Self-Reported (m²)              0.00000\n",
      "ENERGY STAR Score                             66.59919\n",
      "Site Energy Use (GJ)                           0.00000\n",
      "Weather Normalized Site Energy Use (GJ)        0.00000\n",
      "Site EUI (GJ/m²)                               0.00000\n",
      "Weather Normalized Site EUI (GJ/m²)            0.00000\n",
      "Source Energy Use (GJ)                         0.00000\n",
      "Weather Normalized Source Energy Use (GJ)      0.00000\n",
      "Source EUI (GJ/m²)                             0.00000\n",
      "Weather Normalized Source EUI (GJ/m²)          0.00000\n",
      "Total GHG Emissions (Metric Tons CO2e)         0.00000\n",
      "Total GHG Emissions Intensity (kgCO2e/m²)      0.00000\n",
      "Direct GHG Emissions (Metric Tons CO2e)        0.00000\n",
      "Direct GHG Emissions Intensity (kgCO2e/m²)     0.00000\n",
      "Electricity Use - Grid Purchase (kWh)          0.00000\n",
      "Natural Gas Use (GJ)                           0.00000\n",
      "Year Ending                                    0.00000\n",
      "Unique ID                                      0.00000\n",
      "dtype: float64\n"
     ]
    },
    {
     "data": {
      "text/plain": [
       "Property Id                                     int64\n",
       "Property Name                                  object\n",
       "Address 1                                      object\n",
       "City                                           object\n",
       "Postal Code                                    object\n",
       "Province                                       object\n",
       "Primary Property Type - Self Selected          object\n",
       "Number of Buildings                             int64\n",
       "Year Built                                      int64\n",
       "Property GFA - Self-Reported (m²)              object\n",
       "ENERGY STAR Score                             float64\n",
       "Site Energy Use (GJ)                           object\n",
       "Weather Normalized Site Energy Use (GJ)        object\n",
       "Site EUI (GJ/m²)                              float64\n",
       "Weather Normalized Site EUI (GJ/m²)           float64\n",
       "Source Energy Use (GJ)                         object\n",
       "Weather Normalized Source Energy Use (GJ)     float64\n",
       "Source EUI (GJ/m²)                            float64\n",
       "Weather Normalized Source EUI (GJ/m²)         float64\n",
       "Total GHG Emissions (Metric Tons CO2e)         object\n",
       "Total GHG Emissions Intensity (kgCO2e/m²)     float64\n",
       "Direct GHG Emissions (Metric Tons CO2e)        object\n",
       "Direct GHG Emissions Intensity (kgCO2e/m²)    float64\n",
       "Electricity Use - Grid Purchase (kWh)          object\n",
       "Natural Gas Use (GJ)                          float64\n",
       "Year Ending                                     int64\n",
       "Unique ID                                      object\n",
       "dtype: object"
      ]
     },
     "metadata": {},
     "output_type": "display_data"
    }
   ],
   "source": [
    "##1.2 \n",
    "\n",
    "#Use regex to clean string data and remove any non-numerica characters, then we will utilize the pd.to.numeric function to covert the values to floats\n",
    "df['Natural Gas Use (GJ)'] = df['Natural Gas Use (GJ)'].astype(str).str.replace(r',', '', regex=True)\n",
    "df['Natural Gas Use (GJ)'] = pd.to_numeric(df['Natural Gas Use (GJ)'], errors='coerce')\n",
    "\n",
    "#Use regex to clean string data and remove any non-numerica characters, then we will utilize the pd.to.numeric function to covert the values to floats\n",
    "df['Weather Normalized Source Energy Use (GJ)'] = df['Weather Normalized Source Energy Use (GJ)'].astype(str).str.replace(r',', '', regex=True)\n",
    "df['Weather Normalized Source Energy Use (GJ)'] = pd.to_numeric(df['Weather Normalized Source Energy Use (GJ)'], errors='coerce')\n",
    "\n",
    "#calculate the median in the Natural gas column, and then fill the nulls with that values, print the median value for a check\n",
    "NGU_median = df['Natural Gas Use (GJ)'].median()\n",
    "df['Natural Gas Use (GJ)'] = df['Natural Gas Use (GJ)'].fillna(NGU_median)\n",
    "print(f' The median for Natural Gas use is : {NGU_median}')\n",
    "\n",
    "#calculate the median in the Weather normalized source energy use column, and then fill the nulls with that values, print the median value for a check\n",
    "WNSourceEU_median = df ['Weather Normalized Source Energy Use (GJ)'].median()\n",
    "df['Weather Normalized Source Energy Use (GJ)'] = df['Weather Normalized Source Energy Use (GJ)'].fillna(WNSourceEU_median)\n",
    "print(f' The median for Weather Normalized Source Energy Use is : {WNSourceEU_median}')\n",
    "\n",
    "#double check that the percentages for the nulls are now zero. \n",
    "missing_percentage = df.isnull().mean()*100\n",
    "print(missing_percentage)\n",
    "\n",
    "#double check that they data types are now floats \n",
    "display(df.dtypes)\n"
   ]
  },
  {
   "cell_type": "markdown",
   "metadata": {},
   "source": [
    "##1.3 Extracting and Cleaning Data Using Regex\n",
    "\n",
    "We now need to use regex, to convert some of the other columns from texts with commas to just integers. We will utilize loops instead of writing in each of the columns names. "
   ]
  },
  {
   "cell_type": "code",
   "execution_count": 7,
   "metadata": {},
   "outputs": [
    {
     "data": {
      "text/plain": [
       "Property Id                                     int64\n",
       "Property Name                                  object\n",
       "Address 1                                      object\n",
       "City                                           object\n",
       "Postal Code                                    object\n",
       "Province                                       object\n",
       "Primary Property Type - Self Selected          object\n",
       "Number of Buildings                             int64\n",
       "Year Built                                      int64\n",
       "Property GFA - Self-Reported (m²)             float64\n",
       "ENERGY STAR Score                             float64\n",
       "Site Energy Use (GJ)                          float64\n",
       "Weather Normalized Site Energy Use (GJ)       float64\n",
       "Site EUI (GJ/m²)                              float64\n",
       "Weather Normalized Site EUI (GJ/m²)           float64\n",
       "Source Energy Use (GJ)                        float64\n",
       "Weather Normalized Source Energy Use (GJ)     float64\n",
       "Source EUI (GJ/m²)                            float64\n",
       "Weather Normalized Source EUI (GJ/m²)         float64\n",
       "Total GHG Emissions (Metric Tons CO2e)        float64\n",
       "Total GHG Emissions Intensity (kgCO2e/m²)     float64\n",
       "Direct GHG Emissions (Metric Tons CO2e)       float64\n",
       "Direct GHG Emissions Intensity (kgCO2e/m²)    float64\n",
       "Electricity Use - Grid Purchase (kWh)         float64\n",
       "Natural Gas Use (GJ)                          float64\n",
       "Year Ending                                     int64\n",
       "Unique ID                                      object\n",
       "dtype: object"
      ]
     },
     "metadata": {},
     "output_type": "display_data"
    }
   ],
   "source": [
    "#list the columns that need to be cleaned\n",
    "clean_columns = ['Property GFA - Self-Reported (m²)', 'Weather Normalized Site Energy Use (GJ)', 'Site Energy Use (GJ)','Source Energy Use (GJ)', 'Direct GHG Emissions (Metric Tons CO2e)', 'Total GHG Emissions (Metric Tons CO2e)', 'Electricity Use - Grid Purchase (kWh)' ]\n",
    "\n",
    "\n",
    "def clean_and_convert(column):\n",
    "    \"\"\"This function will take in the columns that need to be converted from object to floats.It will utilize regex to turn the strings into numerical values by replacing columns with nothing. \n",
    "    \"\"\"\n",
    "\n",
    "    #use regex to take string data type values from the column, and replace the commas with nothing. \n",
    "    df[column] = df[column].astype(str).str.replace(r',', '', regex = True)\n",
    "\n",
    "    #convert the values to numerical data\n",
    "    df[column] = pd.to_numeric(df[column], errors = 'coerce')\n",
    "\n",
    "\n",
    "#loop through the columns listed in clean column, apply the function\n",
    "for i in clean_columns:\n",
    "    clean_and_convert(i)\n",
    "\n",
    "#double check that they data types are now floats \n",
    "display(df.dtypes)\n",
    "\n",
    "\n"
   ]
  },
  {
   "cell_type": "code",
   "execution_count": 8,
   "metadata": {},
   "outputs": [
    {
     "name": "stdout",
     "output_type": "stream",
     "text": [
      "0      T2H 0Z4\n",
      "1      T2E 7L7\n",
      "2      T2G 0W2\n",
      "3      T2G 0G2\n",
      "4      T2G 4M7\n",
      "        ...   \n",
      "489    T2G 1T7\n",
      "490    T2C 2X1\n",
      "491    T2N 3G8\n",
      "492    T2W 4H7\n",
      "493    T3A 5G1\n",
      "Name: Postal Code, Length: 494, dtype: object\n"
     ]
    }
   ],
   "source": [
    "##1.3 Standardize postal codes to follow canadian format \n",
    "\n",
    "\n",
    "def clean_postal (postal_code):\n",
    "    '''Function will take in the values of the postal code and utilize regex to standardize the format to Canadian requirements A1A 1A1\n",
    "    '''\n",
    "    \n",
    "    #remove the non alphanumeric symbols and the convert the postal code to uppercase\n",
    "    code_clean = re.sub(r\"[^a-zA-Z0-9]\", \"\", str(postal_code)).upper()\n",
    "\n",
    "    #if the entry is Non, NAN empty return None\n",
    "    if code_clean in ['None', 'NAN', '']:\n",
    "        return None\n",
    "    \n",
    "    #if the postal code is not equal to 6 characters return none\n",
    "    if len(code_clean)!= 6:\n",
    "        return None\n",
    "    #format the characters occordingly \n",
    "    return (f'{code_clean[:3]} {code_clean[3:]}')\n",
    "\n",
    "df['Postal Code'] = df['Postal Code'].apply(clean_postal)\n",
    "\n",
    "print(df['Postal Code'])\n",
    "    "
   ]
  },
  {
   "cell_type": "code",
   "execution_count": 27,
   "metadata": {},
   "outputs": [
    {
     "name": "stdout",
     "output_type": "stream",
     "text": [
      "    Street Number    Street Name Street Type Quadrant\n",
      "0            9009      fairmount          dr       se\n",
      "1            2924             11          st       ne\n",
      "2             315             10          av       se\n",
      "3             133              6          av       se\n",
      "4            2201       portland          st       se\n",
      "..            ...            ...         ...      ...\n",
      "489           311             34          av       se\n",
      "490          4705             76          av       se\n",
      "491          1940      westmount          bv       nw\n",
      "492          2607            106          av       sw\n",
      "493         10071  hidden valley          dr       nw\n",
      "\n",
      "[494 rows x 4 columns]\n",
      "['dr' 'st' 'av' 'building' 'rd' 'tr' 'bv' 'ave' 'blvd' 'wy' '' 'way'\n",
      " 'trail' 'road']\n",
      "Street Number    object\n",
      "Street Name      object\n",
      "Street Type      object\n",
      "Quadrant         object\n",
      "dtype: object\n"
     ]
    }
   ],
   "source": [
    "#1.3 clean and extract meaningful text from Property Names and Addresses\n",
    "\n",
    "def extract_address_components(df, address_1):\n",
    "    ''' This function will take in the adress column and then  extract a the street number, street type, street name, and quadrant\n",
    "    '''\n",
    "\n",
    "    #create regex expressions to split the address components \n",
    "    stnumber_pattern = r'\\d{1,5}' #makes sure there are 1 to 5 digits for the street numbers\n",
    "    st_type_pattern = r'\\b(av|ave|blvd|bv|dr|rd|road|st|tr|trail|way|wy|building)\\b' #look for the common street types \n",
    "    quad_pattern = r'\\b(sw|se|nw|ne)\\b'\n",
    "\n",
    "    #create collumns to hold each of the components \n",
    "    df['Street Number'] = ''\n",
    "    df['Street Name'] = ''\n",
    "    df['Street Type'] = ''\n",
    "    df['Quadrant'] = ''\n",
    "\n",
    "    #iterate through the rows \n",
    "    for i, rows in df.iterrows():\n",
    "        address = rows.get(address_1, '')  #get the address from the column name\n",
    "        if not isinstance(address, str): #skip if the address is'nt a string\n",
    "            continue\n",
    "\n",
    "        address = address.lower().strip() #convert the address to lowercase, and remove and leading or trailing spaces\n",
    "\n",
    "        #extract the street number\n",
    "        num_match = re.search(stnumber_pattern, address) #look for the street number pattern\n",
    "        number = num_match.group() if num_match else '' #extract the number if it is found\n",
    "        address = re.sub(stnumber_pattern, '', address, count=1).strip()  #remove the number from the address \n",
    "\n",
    "\n",
    "        #extract the street type\n",
    "        type_match = re.search(st_type_pattern, address) #look for the street type pattern\n",
    "        st_type = type_match.group() if type_match else '' #extract the street type if it is found\n",
    "        address = re.sub(st_type_pattern, '', address, count=1).strip() #remove the street type from the address\n",
    "\n",
    "        #extract the quadrant data\n",
    "        quad_match = re.search(quad_pattern, address)  #loof for the quadrant pattern\n",
    "        quad = quad_match.group() if quad_match else '' #Extract the quadrant if it is found\n",
    "        address = re.sub(quad_pattern, '', address, count=1).strip() #remove the quadrant from the address\n",
    "\n",
    "        #whatever is left after the extraction is the street name\n",
    "        st_name = address\n",
    "\n",
    "        #update the datafram with the extracted components \n",
    "        df.loc[i, 'Street Number'] = number\n",
    "        df.loc[i, 'Street Name'] = st_name\n",
    "        df.loc[i, 'Street Type'] = st_type\n",
    "        df.loc[i, 'Quadrant'] = quad\n",
    "\n",
    "    return df #return the new dataframe\n",
    "\n",
    "df = extract_address_components(df, 'Address 1')\n",
    "print(df[['Street Number', 'Street Name', 'Street Type', 'Quadrant']]) #show changed columns\n",
    "\n",
    "print(df['Street Type'].unique())\n",
    "print(df[['Street Number', 'Street Name', 'Street Type', 'Quadrant']].dtypes)"
   ]
  },
  {
   "cell_type": "markdown",
   "metadata": {},
   "source": [
    "There are repeats in the code av, ave and bv, blvd. We will need to standardize this. We also need to change the street number column to a integer data type. "
   ]
  },
  {
   "cell_type": "code",
   "execution_count": 28,
   "metadata": {},
   "outputs": [
    {
     "name": "stdout",
     "output_type": "stream",
     "text": [
      "     Street Number    Street Name Street Type Normalized Quadrant\n",
      "0             9009      FAIRMOUNT                  DRIVE       SE\n",
      "1             2924             11                 STREET       NE\n",
      "2              315             10                 AVENUE       SE\n",
      "3              133              6                 AVENUE       SE\n",
      "4             2201       PORTLAND                 STREET       SE\n",
      "..             ...            ...                    ...      ...\n",
      "489            311             34                 AVENUE       SE\n",
      "490           4705             76                 AVENUE       SE\n",
      "491           1940      WESTMOUNT              BOULEVARD       NW\n",
      "492           2607            106                 AVENUE       SW\n",
      "493          10071  HIDDEN VALLEY                  DRIVE       NW\n",
      "\n",
      "[494 rows x 4 columns]\n"
     ]
    }
   ],
   "source": [
    "#1.3\n",
    "\n",
    "# we need to normalize the mapping for the street types \n",
    "street_type_normalization = {'av': 'Avenue','ave': 'Avenue','blvd': 'Boulevard','bv': 'Boulevard','dr': 'Drive','rd': 'Road','road': 'Road','st': 'Street',\n",
    "    'tr': 'Trail', 'trail': 'Trail','way': 'Way','wy': 'Way','building': 'Building'}\n",
    "\n",
    "\n",
    "#now will use mapping to normalize the street types \n",
    "df['Street Type Normalized'] = df['Street Type'].apply(lambda x: street_type_normalization.get(x.lower(), x))\n",
    "\n",
    "#select the columns for the final output\n",
    "final_df = df[['Street Number', 'Street Name', 'Street Type Normalized', 'Quadrant']]\n",
    "\n",
    "#will use loc method to get enforce the data types, and to standardize the capitalization \n",
    "def enforce_data_types(df):\n",
    "    df.loc[:, 'Street Number'] = pd.to_numeric(df['Street Number'], errors='coerce').astype('Int64') #allow for the conversion to integers\n",
    "    df.loc[:, 'Street Name'] = df['Street Name'].astype(str).str.upper() #change all street names to capitals\n",
    "    df.loc[:, 'Street Type Normalized'] = df['Street Type Normalized'].astype(str).str.upper() #change all street types to capitals\n",
    "    df.loc[:, 'Quadrant'] = df['Quadrant'].astype(str).str.upper()  #conver the quadrant string to capitals\n",
    "\n",
    "    #double check that each item is the correct data type\n",
    "    df = df.astype({'Street Number': 'Int64',  'Street Name': 'object', 'Street Type Normalized': 'object',  'Quadrant': 'object'})\n",
    "\n",
    "    return df #return the dataframe\n",
    "\n",
    "# Apply data type enforcement\n",
    "final_df = enforce_data_types(final_df)\n",
    "\n",
    "#print the dataframe \n",
    "print(final_df)\n"
   ]
  }
 ],
 "metadata": {
  "kernelspec": {
   "display_name": "Python 3",
   "language": "python",
   "name": "python3"
  },
  "language_info": {
   "codemirror_mode": {
    "name": "ipython",
    "version": 3
   },
   "file_extension": ".py",
   "mimetype": "text/x-python",
   "name": "python",
   "nbconvert_exporter": "python",
   "pygments_lexer": "ipython3",
   "version": "3.12.4"
  }
 },
 "nbformat": 4,
 "nbformat_minor": 2
}
